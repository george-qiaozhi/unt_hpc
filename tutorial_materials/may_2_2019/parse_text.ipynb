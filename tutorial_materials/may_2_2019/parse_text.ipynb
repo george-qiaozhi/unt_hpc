{
  "nbformat": 4,
  "nbformat_minor": 0,
  "metadata": {
    "colab": {
      "name": "parse_text.ipynb",
      "version": "0.3.2",
      "provenance": [],
      "collapsed_sections": []
    },
    "kernelspec": {
      "name": "python3",
      "display_name": "Python 3"
    }
  },
  "cells": [
    {
      "metadata": {
        "id": "lMagHqIDc09P",
        "colab_type": "text"
      },
      "cell_type": "markdown",
      "source": [
        "## How to parse text data"
      ]
    },
    {
      "metadata": {
        "id": "VLsvS1u7cnpd",
        "colab_type": "text"
      },
      "cell_type": "markdown",
      "source": [
        "## Example:\n",
        "\n",
        "### Texas is the    second-largest U.S. state, after Alaska, with an area of 268,820 square miles (696,200 km2). \n",
        "\n",
        "### The name Texas, based on the Caddo word táyshaʼ (/t'ajʃaʔ/) 'friend', was applied, in the spelling Tejas or Texas, [17] by the Spanish to the Caddo themselves, specifically the Hasinai Confederacy,[18] the final -s representing the Spanish plural."
      ]
    },
    {
      "metadata": {
        "id": "nNPlPgKSdR2p",
        "colab_type": "text"
      },
      "cell_type": "markdown",
      "source": [
        "## NLTK"
      ]
    },
    {
      "metadata": {
        "id": "1tO4IKUcccvj",
        "colab_type": "code",
        "colab": {
          "base_uri": "https://localhost:8080/",
          "height": 85
        },
        "outputId": "c8a71f57-1441-4084-b03e-a67309fa8fb2"
      },
      "cell_type": "code",
      "source": [
        "import nltk\n",
        "\n",
        "# split sentences\n",
        "from nltk import sent_tokenize\n",
        "nltk.download('punkt')\n",
        "\n",
        "# split into words\n",
        "from nltk.tokenize import word_tokenize\n",
        "\n",
        "# remove stop words\n",
        "from nltk.corpus import stopwords\n",
        "nltk.download('stopwords')\n",
        "\n",
        "# stemming of words\n",
        "from nltk.stem.porter import PorterStemmer\n"
      ],
      "execution_count": 1,
      "outputs": [
        {
          "output_type": "stream",
          "text": [
            "[nltk_data] Downloading package punkt to /root/nltk_data...\n",
            "[nltk_data]   Package punkt is already up-to-date!\n",
            "[nltk_data] Downloading package stopwords to /root/nltk_data...\n",
            "[nltk_data]   Unzipping corpora/stopwords.zip.\n"
          ],
          "name": "stdout"
        }
      ]
    },
    {
      "metadata": {
        "id": "x9LkuDUFdZPm",
        "colab_type": "code",
        "colab": {
          "base_uri": "https://localhost:8080/",
          "height": 122
        },
        "outputId": "5b8b8bd3-36fb-435a-8582-9a6ab25fe6ef"
      },
      "cell_type": "code",
      "source": [
        "text = \"Texas is the    second-largest U.S. state, after Alaska, with an area of 268,820 square miles (696,200 km2). \\\n",
        "The name Texas, based on the Caddo word táyshaʼ (/t'ajʃaʔ/) 'friend', was applied, in the spelling Tejas or Texas, \\\n",
        "[17] by the Spanish to the Caddo themselves, specifically the Hasinai Confederacy,[18] the final -s representing the Spanish plural.\"\n",
        "\n",
        "print(text)\n",
        "\n",
        "# split sentences\n",
        "sentences = sent_tokenize(text)\n",
        "print(sentences)\n",
        "\n",
        "# split into words\n",
        "words = word_tokenize(text)\n",
        "print(words)\n",
        "\n",
        "# remove stop words\n",
        "stop_words = stopwords.words('english')\n",
        "words = [w for w in words if not w in stop_words]\n",
        "print(words)\n",
        "\n",
        "# stemming words\n",
        "porter = PorterStemmer()\n",
        "stemmed = [porter.stem(word) for word in words]\n",
        "\n",
        "print(stemmed)"
      ],
      "execution_count": 2,
      "outputs": [
        {
          "output_type": "stream",
          "text": [
            "Texas is the    second-largest U.S. state, after Alaska, with an area of 268,820 square miles (696,200 km2). The name Texas, based on the Caddo word táyshaʼ (/t'ajʃaʔ/) 'friend', was applied, in the spelling Tejas or Texas, [17] by the Spanish to the Caddo themselves, specifically the Hasinai Confederacy,[18] the final -s representing the Spanish plural.\n",
            "['Texas is the    second-largest U.S. state, after Alaska, with an area of 268,820 square miles (696,200 km2).', \"The name Texas, based on the Caddo word táyshaʼ (/t'ajʃaʔ/) 'friend', was applied, in the spelling Tejas or Texas, [17] by the Spanish to the Caddo themselves, specifically the Hasinai Confederacy,[18] the final -s representing the Spanish plural.\"]\n",
            "['Texas', 'is', 'the', 'second-largest', 'U.S.', 'state', ',', 'after', 'Alaska', ',', 'with', 'an', 'area', 'of', '268,820', 'square', 'miles', '(', '696,200', 'km2', ')', '.', 'The', 'name', 'Texas', ',', 'based', 'on', 'the', 'Caddo', 'word', 'táyshaʼ', '(', \"/t'ajʃaʔ/\", ')', \"'friend\", \"'\", ',', 'was', 'applied', ',', 'in', 'the', 'spelling', 'Tejas', 'or', 'Texas', ',', '[', '17', ']', 'by', 'the', 'Spanish', 'to', 'the', 'Caddo', 'themselves', ',', 'specifically', 'the', 'Hasinai', 'Confederacy', ',', '[', '18', ']', 'the', 'final', '-s', 'representing', 'the', 'Spanish', 'plural', '.']\n",
            "['Texas', 'second-largest', 'U.S.', 'state', ',', 'Alaska', ',', 'area', '268,820', 'square', 'miles', '(', '696,200', 'km2', ')', '.', 'The', 'name', 'Texas', ',', 'based', 'Caddo', 'word', 'táyshaʼ', '(', \"/t'ajʃaʔ/\", ')', \"'friend\", \"'\", ',', 'applied', ',', 'spelling', 'Tejas', 'Texas', ',', '[', '17', ']', 'Spanish', 'Caddo', ',', 'specifically', 'Hasinai', 'Confederacy', ',', '[', '18', ']', 'final', '-s', 'representing', 'Spanish', 'plural', '.']\n",
            "['texa', 'second-largest', 'u.s.', 'state', ',', 'alaska', ',', 'area', '268,820', 'squar', 'mile', '(', '696,200', 'km2', ')', '.', 'the', 'name', 'texa', ',', 'base', 'caddo', 'word', 'táyshaʼ', '(', \"/t'ajʃaʔ/\", ')', \"'friend\", \"'\", ',', 'appli', ',', 'spell', 'teja', 'texa', ',', '[', '17', ']', 'spanish', 'caddo', ',', 'specif', 'hasinai', 'confederaci', ',', '[', '18', ']', 'final', '-s', 'repres', 'spanish', 'plural', '.']\n"
          ],
          "name": "stdout"
        }
      ]
    },
    {
      "metadata": {
        "id": "lPoYxo89djV8",
        "colab_type": "text"
      },
      "cell_type": "markdown",
      "source": [
        "## Spacy"
      ]
    },
    {
      "metadata": {
        "id": "PHCwHFvzdiqZ",
        "colab_type": "code",
        "colab": {
          "base_uri": "https://localhost:8080/",
          "height": 122
        },
        "outputId": "e794d83b-fb64-4861-df5b-57ee0c37b2cf"
      },
      "cell_type": "code",
      "source": [
        "text = \"Texas is the    second-largest U.S. state, after Alaska, with an area of 268,820 square miles (696,200 km2). \\\n",
        "The name Texas, based on the Caddo word táyshaʼ (/t'ajʃaʔ/) 'friend', was applied, in the spelling Tejas or Texas, \\\n",
        "[17] by the Spanish to the Caddo themselves, specifically the Hasinai Confederacy,[18] the final -s representing the Spanish plural.\"\n",
        "\n",
        "print(text)\n",
        "\n",
        "import spacy\n",
        "nlp = spacy.load('en')\n",
        "\n",
        "document = nlp(text)\n",
        "\n",
        "# split sentences\n",
        "print(list(document.sents))\n",
        "\n",
        "# split into words\n",
        "print(list(document))\n",
        "\n",
        "# remove stop words\n",
        "print([word for word in document if not word.is_stop])\n",
        "\n",
        "# lematization\n",
        "lemmas = [token.lemma_ for token in document if not token.is_stop]\n",
        "print(lemmas)"
      ],
      "execution_count": 3,
      "outputs": [
        {
          "output_type": "stream",
          "text": [
            "Texas is the    second-largest U.S. state, after Alaska, with an area of 268,820 square miles (696,200 km2). The name Texas, based on the Caddo word táyshaʼ (/t'ajʃaʔ/) 'friend', was applied, in the spelling Tejas or Texas, [17] by the Spanish to the Caddo themselves, specifically the Hasinai Confederacy,[18] the final -s representing the Spanish plural.\n",
            "[Texas is the    second-largest U.S. state, after Alaska, with an area of 268,820 square miles (696,200 km2)., The name Texas, based on the Caddo word táyshaʼ (/t'ajʃaʔ/) 'friend', was applied, in the spelling Tejas or Texas, [17] by the Spanish to the Caddo themselves, specifically the Hasinai Confederacy,[18] the final -s representing the Spanish plural.]\n",
            "[Texas, is, the,    , second, -, largest, U.S., state, ,, after, Alaska, ,, with, an, area, of, 268,820, square, miles, (, 696,200, km2, ), ., The, name, Texas, ,, based, on, the, Caddo, word, táyshaʼ, (, /t'ajʃaʔ/, ), ', friend, ', ,, was, applied, ,, in, the, spelling, Tejas, or, Texas, ,, [, 17, ], by, the, Spanish, to, the, Caddo, themselves, ,, specifically, the, Hasinai, Confederacy,[18, ], the, final, -s, representing, the, Spanish, plural, .]\n",
            "[Texas,    , second, -, largest, U.S., state, ,, Alaska, ,, area, 268,820, square, miles, (, 696,200, km2, ), ., The, Texas, ,, based, Caddo, word, táyshaʼ, (, /t'ajʃaʔ/, ), ', friend, ', ,, applied, ,, spelling, Tejas, Texas, ,, [, 17, ], Spanish, Caddo, ,, specifically, Hasinai, Confederacy,[18, ], final, -s, representing, Spanish, plural, .]\n",
            "['texas', '   ', 'second', '-', 'large', 'u.s.', 'state', ',', 'alaska', ',', 'area', '268,820', 'square', 'mile', '(', '696,200', 'km2', ')', '.', 'the', 'texas', ',', 'base', 'caddo', 'word', 'táyshaʼ', '(', \"/t'ajʃaʔ/\", ')', \"'\", 'friend', \"'\", ',', 'apply', ',', 'spelling', 'tejas', 'texas', ',', '[', '17', ']', 'spanish', 'caddo', ',', 'specifically', 'hasinai', 'confederacy,[18', ']', 'final', '-s', 'represent', 'spanish', 'plural', '.']\n"
          ],
          "name": "stdout"
        }
      ]
    },
    {
      "metadata": {
        "id": "piZp0d8jdsej",
        "colab_type": "text"
      },
      "cell_type": "markdown",
      "source": [
        "## Cleaning"
      ]
    },
    {
      "metadata": {
        "id": "qhAy7EmyduBj",
        "colab_type": "code",
        "colab": {
          "base_uri": "https://localhost:8080/",
          "height": 122
        },
        "outputId": "d1adaa12-9576-440f-e180-6df5162b446b"
      },
      "cell_type": "code",
      "source": [
        "import re\n",
        "from unicodedata import normalize\n",
        "\n",
        "text = \"Texas is the    second-largest U.S. state, after Alaska, with an area of 268,820 square miles (696,200 km2). \\\n",
        "The name Texas, based on the Caddo word táyshaʼ (/t'ajʃaʔ/) 'friend', was applied, in the spelling Tejas or Texas, \\\n",
        "[17] by the Spanish to the Caddo themselves, specifically the Hasinai Confederacy,[18] the final -s representing the Spanish plural.\"\n",
        "\n",
        "print(text)\n",
        "\n",
        "# normalize unicode\n",
        "text = normalize('NFD', text).encode('ascii', 'ignore')\n",
        "text = text.decode('utf-8')\n",
        "print(text)\n",
        "\n",
        "# remove punctuation\n",
        "number_handler = re.compile(r'(?<=\\d),(?=\\d)')\n",
        "punct_re = re.compile('[{}]'.format(re.escape('!\"#$%&\\'()*+,./:;<=>?@[\\\\]^_`{|}~-')))\n",
        "\n",
        "abreviation = re.compile('[^a-zA-Z0-9-_.]')\n",
        "text = abreviation.sub(' ', text)\n",
        "print(text)\n",
        "\n",
        "text = number_handler.sub('',text)\n",
        "text = punct_re.sub(' ', text)\n",
        "print(text)\n",
        "\n",
        "# remove any double whitespace\n",
        "text = ' '.join(text.split())\n",
        "print(text)"
      ],
      "execution_count": 4,
      "outputs": [
        {
          "output_type": "stream",
          "text": [
            "Texas is the    second-largest U.S. state, after Alaska, with an area of 268,820 square miles (696,200 km2). The name Texas, based on the Caddo word táyshaʼ (/t'ajʃaʔ/) 'friend', was applied, in the spelling Tejas or Texas, [17] by the Spanish to the Caddo themselves, specifically the Hasinai Confederacy,[18] the final -s representing the Spanish plural.\n",
            "Texas is the    second-largest U.S. state, after Alaska, with an area of 268,820 square miles (696,200 km2). The name Texas, based on the Caddo word taysha (/t'aja/) 'friend', was applied, in the spelling Tejas or Texas, [17] by the Spanish to the Caddo themselves, specifically the Hasinai Confederacy,[18] the final -s representing the Spanish plural.\n",
            "Texas is the    second-largest U.S. state  after Alaska  with an area of 268 820 square miles  696 200 km2 . The name Texas  based on the Caddo word taysha   t aja    friend   was applied  in the spelling Tejas or Texas   17  by the Spanish to the Caddo themselves  specifically the Hasinai Confederacy  18  the final -s representing the Spanish plural.\n",
            "Texas is the    second largest U S  state  after Alaska  with an area of 268 820 square miles  696 200 km2   The name Texas  based on the Caddo word taysha   t aja    friend   was applied  in the spelling Tejas or Texas   17  by the Spanish to the Caddo themselves  specifically the Hasinai Confederacy  18  the final  s representing the Spanish plural \n",
            "Texas is the second largest U S state after Alaska with an area of 268 820 square miles 696 200 km2 The name Texas based on the Caddo word taysha t aja friend was applied in the spelling Tejas or Texas 17 by the Spanish to the Caddo themselves specifically the Hasinai Confederacy 18 the final s representing the Spanish plural\n"
          ],
          "name": "stdout"
        }
      ]
    },
    {
      "metadata": {
        "id": "fzpnvCtSligZ",
        "colab_type": "code",
        "colab": {}
      },
      "cell_type": "code",
      "source": [
        "\"\"\" CLEAN TEXT FUNCTION \"\"\"\n",
        "\n",
        "def clean_text(text):\n",
        "  import re\n",
        "  from unicodedata import normalize\n",
        "  \n",
        "  # normalize unicode\n",
        "  clean = normalize('NFD', text).encode('ascii', 'ignore')\n",
        "  clean = clean.decode('utf-8')\n",
        "\n",
        "  # remove punctuation\n",
        "  number_handler = re.compile(r'(?<=\\d),(?=\\d)')\n",
        "  punct_re = re.compile('[{}]'.format(re.escape('!\"#$%&\\'()*+,./:;<=>?@[\\\\]^_`{|}~-')))\n",
        "\n",
        "  abreviation = re.compile('[^a-zA-Z0-9-_.]')\n",
        "  clean = abreviation.sub(' ', clean)\n",
        "\n",
        "  clean = number_handler.sub('',clean)\n",
        "  clean = punct_re.sub(' ', clean)\n",
        "\n",
        "  # remove any double whitespace\n",
        "  clean = ' '.join(clean.split())\n",
        "  \n",
        "  return clean\n"
      ],
      "execution_count": 0,
      "outputs": []
    },
    {
      "metadata": {
        "id": "b-Wx0Vvyl6EO",
        "colab_type": "code",
        "colab": {
          "base_uri": "https://localhost:8080/",
          "height": 54
        },
        "outputId": "871f77b5-21a1-4c6c-8026-166c3160e3be"
      },
      "cell_type": "code",
      "source": [
        "clean_text(text)"
      ],
      "execution_count": 6,
      "outputs": [
        {
          "output_type": "execute_result",
          "data": {
            "text/plain": [
              "'Texas is the second largest U S state after Alaska with an area of 268 820 square miles 696 200 km2 The name Texas based on the Caddo word taysha t aja friend was applied in the spelling Tejas or Texas 17 by the Spanish to the Caddo themselves specifically the Hasinai Confederacy 18 the final s representing the Spanish plural'"
            ]
          },
          "metadata": {
            "tags": []
          },
          "execution_count": 6
        }
      ]
    }
  ]
}